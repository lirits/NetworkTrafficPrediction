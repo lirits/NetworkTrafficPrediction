{
  "nbformat": 4,
  "nbformat_minor": 0,
  "metadata": {
    "colab": {
      "name": "LSTM.ipynb",
      "provenance": [],
      "collapsed_sections": []
    },
    "kernelspec": {
      "name": "python3",
      "display_name": "Python 3"
    },
    "language_info": {
      "name": "python"
    }
  },
  "cells": [
    {
      "cell_type": "markdown",
      "metadata": {
        "id": "Cs9T49z5iXWX"
      },
      "source": [
        "# **Download Data**\n",
        "\n",
        "\n",
        "If the Google drive links are dead, you can download data from [kaggle](https://www.kaggle.com/naebolo/predict-traffic-of-lte-network?select=test.csv), and upload data manually to the workspace."
      ]
    },
    {
      "cell_type": "code",
      "metadata": {
        "colab": {
          "base_uri": "https://localhost:8080/"
        },
        "id": "rN4VLvUpifai",
        "outputId": "7861c355-0663-4086-a682-c5e6e8ae6f38"
      },
      "source": [
        "# Create a folder where the dataset will be stored\n",
        "!git clone https://github.com/lirits/NetworkTrafficPrediction.git\n",
        "!mkdir NetworkTrafficPrediction/Dataset -p\n",
        "!gdown --id '18WeCp7OPGulOgMl-KN6DN1CJw47IlTQ2' --output NetworkTrafficPrediction/Dataset/lte.train.csv\n",
        "# !gdown --id '18_nW3nufgDzFFmpuPAWyKUbO11gLU8Ud' --output NetworkTrafficPrediction/Dataset/lte.test.csv # We have abandoned it because of the insufficient amount of data."
      ],
      "execution_count": 21,
      "outputs": [
        {
          "output_type": "stream",
          "name": "stdout",
          "text": [
            "fatal: destination path 'NetworkTrafficPrediction' already exists and is not an empty directory.\n",
            "Downloading...\n",
            "From: https://drive.google.com/uc?id=18WeCp7OPGulOgMl-KN6DN1CJw47IlTQ2\n",
            "To: /content/NetworkTrafficPrediction/Dataset/lte.train.csv\n",
            "100% 20.0M/20.0M [00:00<00:00, 122MB/s] \n"
          ]
        }
      ]
    },
    {
      "cell_type": "markdown",
      "metadata": {
        "id": "uDZ_aWAjlY19"
      },
      "source": [
        "# Import Some packages"
      ]
    },
    {
      "cell_type": "code",
      "metadata": {
        "id": "qJkIveKncABt"
      },
      "source": [
        "import sys\n",
        "if not 'NetworkTrafficPrediction' in sys.path:\n",
        "    sys.path += ['NetworkTrafficPrediction']"
      ],
      "execution_count": 27,
      "outputs": []
    },
    {
      "cell_type": "code",
      "metadata": {
        "id": "WU47W0rqkLvL",
        "colab": {
          "base_uri": "https://localhost:8080/",
          "height": 372
        },
        "outputId": "f0dcea41-d5e0-4898-93fd-86879133450b"
      },
      "source": [
        "# pytorch\n",
        "import torch\n",
        "import torch.nn as nn\n",
        "\n",
        "from data.custom_dataset import LteTrafficDataloader\n",
        "\n",
        "\n",
        "# For data plotting\n",
        "import matplotlib.pyplot as plt\n",
        "\n",
        "# seed\n",
        "torch.backends.cudnn.deterministic = True\n",
        "torch.manual_seed(hash(\"by removing stochasticity\") % 2**32 - 1)\n",
        "torch.cuda.manual_seed_all(hash(\"so runs are repeatable\") % 2**32 - 1)"
      ],
      "execution_count": 29,
      "outputs": [
        {
          "output_type": "error",
          "ename": "ImportError",
          "evalue": "ignored",
          "traceback": [
            "\u001b[0;31m---------------------------------------------------------------------------\u001b[0m",
            "\u001b[0;31mImportError\u001b[0m                               Traceback (most recent call last)",
            "\u001b[0;32m<ipython-input-29-a3b5850c6e94>\u001b[0m in \u001b[0;36m<module>\u001b[0;34m()\u001b[0m\n\u001b[1;32m      3\u001b[0m \u001b[0;32mimport\u001b[0m \u001b[0mtorch\u001b[0m\u001b[0;34m.\u001b[0m\u001b[0mnn\u001b[0m \u001b[0;32mas\u001b[0m \u001b[0mnn\u001b[0m\u001b[0;34m\u001b[0m\u001b[0;34m\u001b[0m\u001b[0m\n\u001b[1;32m      4\u001b[0m \u001b[0;34m\u001b[0m\u001b[0m\n\u001b[0;32m----> 5\u001b[0;31m \u001b[0;32mfrom\u001b[0m \u001b[0mdata\u001b[0m\u001b[0;34m.\u001b[0m\u001b[0mcustom_dataset\u001b[0m \u001b[0;32mimport\u001b[0m \u001b[0mLteTrafficDataloader\u001b[0m\u001b[0;34m\u001b[0m\u001b[0;34m\u001b[0m\u001b[0m\n\u001b[0m\u001b[1;32m      6\u001b[0m \u001b[0;34m\u001b[0m\u001b[0m\n\u001b[1;32m      7\u001b[0m \u001b[0;34m\u001b[0m\u001b[0m\n",
            "\u001b[0;31mImportError\u001b[0m: cannot import name 'LteTrafficDataloader' from 'data.custom_dataset' (NetworkTrafficPrediction/data/custom_dataset.py)",
            "",
            "\u001b[0;31m---------------------------------------------------------------------------\u001b[0;32m\nNOTE: If your import is failing due to a missing package, you can\nmanually install dependencies using either !pip or !apt.\n\nTo view examples of installing some common dependencies, click the\n\"Open Examples\" button below.\n\u001b[0;31m---------------------------------------------------------------------------\u001b[0m\n"
          ],
          "errorDetails": {
            "actions": [
              {
                "action": "open_url",
                "actionText": "Open Examples",
                "url": "/notebooks/snippets/importing_libraries.ipynb"
              }
            ]
          }
        }
      ]
    },
    {
      "cell_type": "markdown",
      "metadata": {
        "id": "ZTzuN3JtzOhn"
      },
      "source": [
        "## **Dataloader**\n",
        "A `DataLoader` loads data from a given `Dataset` into batches.\n"
      ]
    },
    {
      "cell_type": "code",
      "metadata": {
        "id": "irLLDMrPcwcn"
      },
      "source": [
        "train_file_path = 'NetworkTrafficPrediction/Dataset/lte.train.csv'\n",
        "CellName = 'Cell_003781'\n",
        "batch_size = 128\n",
        "windows_size = 168\n",
        "target_size = 48\n",
        "learning_rate = 1e-3\n",
        "epochs =100\n",
        "device = torch.device('cuda' if torch.cuda.is_available() else 'cpu')"
      ],
      "execution_count": 24,
      "outputs": []
    },
    {
      "cell_type": "code",
      "metadata": {
        "id": "EOXVXnhwpo6D"
      },
      "source": [
        "# Creating data indices for training and validation splits:\n",
        "from torch.utils.data.sampler import SubsetRandomSampler\n",
        "import numpy as np\n",
        "dataset = LteTrafficDataset(train_file_path,CellName=CellName,windows_size=windows_size,target_size=target_size)\n",
        "validation_split = .2\n",
        "dataset_size = len(dataset)\n",
        "indices = list(range(dataset_size))\n",
        "split = int(np.floor(validation_split * dataset_size))\n",
        "train_indices, val_indices = indices[split:], indices[:split]\n",
        "train_loader = torch.utils.data.DataLoader(dataset, batch_size=batch_size, \n",
        "                                           sampler=SubsetRandomSampler(train_indices))\n",
        "validation_loader = torch.utils.data.DataLoader(dataset, batch_size=batch_size,\n",
        "                                                sampler=SubsetRandomSampler(val_indices))"
      ],
      "execution_count": 28,
      "outputs": []
    },
    {
      "cell_type": "code",
      "metadata": {
        "colab": {
          "base_uri": "https://localhost:8080/"
        },
        "id": "DXCMy6hrc73q",
        "outputId": "c7b062b3-5528-47cd-ac5e-59f834a2f6be"
      },
      "source": [
        "example_x,example_y = next(iter(train_loader))\n",
        "print(example_x.shape,example_y.shape)"
      ],
      "execution_count": 32,
      "outputs": [
        {
          "output_type": "stream",
          "name": "stdout",
          "text": [
            "torch.Size([128, 168, 1]) torch.Size([128, 48, 1])\n"
          ]
        }
      ]
    },
    {
      "cell_type": "markdown",
      "metadata": {
        "id": "6_6JmDoHro-f"
      },
      "source": [
        "# Define model"
      ]
    },
    {
      "cell_type": "code",
      "metadata": {
        "colab": {
          "base_uri": "https://localhost:8080/"
        },
        "id": "hDkrVD-ddQp2",
        "outputId": "c6157c3a-c02c-46e6-e63f-5173e1fb6169"
      },
      "source": [
        "moid = 'RNN'\n",
        "hidden_size = 200\n",
        "num_lstm = 1\n",
        "dropout = 0.2\n",
        "bidirectional = False\n",
        "net = LSTMModule(moid,windows_size,1,target_size,hidden_size,num_lstm,dropout,bidirectional).to(device)\n",
        "print(net)"
      ],
      "execution_count": 8,
      "outputs": [
        {
          "output_type": "stream",
          "name": "stdout",
          "text": [
            "LSTMModule(\n",
            "  (RNNS_model): Sequential(\n",
            "    (0): LSTM(1, 200)\n",
            "  )\n",
            "  (fc1): Flatten(start_dim=1, end_dim=-1)\n",
            "  (linear_model): Sequential(\n",
            "    (0): Dropout(p=0.2, inplace=False)\n",
            "    (1): Linear(in_features=33600, out_features=16800, bias=True)\n",
            "    (2): ReLU()\n",
            "    (3): Linear(in_features=16800, out_features=48, bias=True)\n",
            "  )\n",
            ")\n"
          ]
        }
      ]
    },
    {
      "cell_type": "code",
      "metadata": {
        "colab": {
          "base_uri": "https://localhost:8080/"
        },
        "id": "jACfIL26du6Y",
        "outputId": "10150fd3-6fa4-4490-f1c6-7193b0fde891"
      },
      "source": [
        "pred_y = net(example_x.to(device))\n",
        "print(example_x.shape,example_y.shape,pred_y.shape)"
      ],
      "execution_count": 10,
      "outputs": [
        {
          "output_type": "stream",
          "name": "stdout",
          "text": [
            "torch.Size([128, 168, 1]) torch.Size([128, 48, 1]) torch.Size([128, 48, 1])\n"
          ]
        }
      ]
    },
    {
      "cell_type": "markdown",
      "metadata": {
        "id": "tNZ5t3Qkd1ZQ"
      },
      "source": [
        "# Train loop"
      ]
    },
    {
      "cell_type": "code",
      "metadata": {
        "id": "fZJa3wEGd7Kl"
      },
      "source": [
        "from utils.tools import train_loop"
      ],
      "execution_count": 11,
      "outputs": []
    },
    {
      "cell_type": "code",
      "metadata": {
        "id": "xwZJDnnfeS8M"
      },
      "source": [
        "loss_fn = nn.MSELoss()\n",
        "optimizer = torch.optim.Adam(net.parameters(),lr=learning_rate)"
      ],
      "execution_count": 12,
      "outputs": []
    },
    {
      "cell_type": "code",
      "metadata": {
        "id": "ukp3PHl9h_KK"
      },
      "source": [
        "def train_loop(\n",
        "        datalodaer,\n",
        "        model,\n",
        "        loss_fn,\n",
        "        optimizer,\n",
        "        device,\n",
        "        usd_wandb: bool = False,\n",
        "        use_Tr_accuracy: bool = False,\n",
        "        tolerate_rate:float = 0.1):\n",
        "    size = len(datalodaer.dataset)\n",
        "    accuracy = 0\n",
        "    for batch, (X, y) in enumerate(datalodaer):\n",
        "        X, y = X.to(device), y.to(device)\n",
        "        # compute prediction and loss\n",
        "        pred = model(X)\n",
        "        # loss = torch.sqrt(loss_fn(pred, y))\n",
        "        loss = loss_fn(pred, y)\n",
        "        # Backpropagation\n",
        "        optimizer.zero_grad()\n",
        "        loss.backward()\n",
        "        optimizer.step()\n",
        "        if use_Tr_accuracy:\n",
        "            accuracy += Tr_accuracy(pred, y,tolerate_rate)\n",
        "\n",
        "        if batch % 100 == 0:\n",
        "            loss, current = loss.item(), batch * len(X)\n",
        "            if usd_wandb:\n",
        "                import wandb\n",
        "                wandb.log({'train_loss': loss.item(), 'Tr_accuracy': accuracy})\n",
        "            print(\n",
        "                f\"loss: {loss:>7f},Accuracy:{(accuracy/batch)}  [{current:>5d}/{size:>5d}]\")"
      ],
      "execution_count": 16,
      "outputs": []
    },
    {
      "cell_type": "code",
      "metadata": {
        "id": "g123MYcIiNRN"
      },
      "source": [
        "def Tr_accuracy(y_pred: float, y_true: float, tolerate_rate: int) -> float:\n",
        "    return ((y_true * (1 - tolerate_rate) < y_pred) == (y_pred < (1 + tolerate_rate)\n",
        "            * y_true)).sum() / (y_pred.shape[0] * y_pred.shape[1] * y_pred.shape[2])"
      ],
      "execution_count": 18,
      "outputs": []
    },
    {
      "cell_type": "code",
      "metadata": {
        "colab": {
          "base_uri": "https://localhost:8080/"
        },
        "id": "xEHOBWlweG3J",
        "outputId": "756cad1d-c587-41d8-fc9f-0ffeb7a83e10"
      },
      "source": [
        "for t in range(epochs):\n",
        "  print(f'Epoch {t+1}\\n-------------------------------------')\n",
        "  train_loop(train_dataloader,net,loss_fn,optimizer,device,False,True)"
      ],
      "execution_count": 19,
      "outputs": [
        {
          "output_type": "stream",
          "name": "stdout",
          "text": [
            "Epoch 1\n",
            "-------------------------------------\n",
            "loss: 0.217976,Accuracy:nan  [    0/ 8518]\n",
            "Epoch 2\n",
            "-------------------------------------\n",
            "loss: 0.008422,Accuracy:inf  [    0/ 8518]\n",
            "Epoch 3\n",
            "-------------------------------------\n",
            "loss: 0.007658,Accuracy:inf  [    0/ 8518]\n",
            "Epoch 4\n",
            "-------------------------------------\n",
            "loss: 0.007206,Accuracy:inf  [    0/ 8518]\n",
            "Epoch 5\n",
            "-------------------------------------\n",
            "loss: 0.007530,Accuracy:inf  [    0/ 8518]\n",
            "Epoch 6\n",
            "-------------------------------------\n",
            "loss: 0.007680,Accuracy:inf  [    0/ 8518]\n",
            "Epoch 7\n",
            "-------------------------------------\n",
            "loss: 0.006996,Accuracy:inf  [    0/ 8518]\n",
            "Epoch 8\n",
            "-------------------------------------\n",
            "loss: 0.006768,Accuracy:inf  [    0/ 8518]\n",
            "Epoch 9\n",
            "-------------------------------------\n",
            "loss: 0.006251,Accuracy:inf  [    0/ 8518]\n",
            "Epoch 10\n",
            "-------------------------------------\n",
            "loss: 0.007559,Accuracy:inf  [    0/ 8518]\n",
            "Epoch 11\n",
            "-------------------------------------\n",
            "loss: 0.007227,Accuracy:inf  [    0/ 8518]\n",
            "Epoch 12\n",
            "-------------------------------------\n",
            "loss: 0.007031,Accuracy:inf  [    0/ 8518]\n",
            "Epoch 13\n",
            "-------------------------------------\n",
            "loss: 0.006111,Accuracy:inf  [    0/ 8518]\n",
            "Epoch 14\n",
            "-------------------------------------\n",
            "loss: 0.006874,Accuracy:inf  [    0/ 8518]\n",
            "Epoch 15\n",
            "-------------------------------------\n",
            "loss: 0.007501,Accuracy:inf  [    0/ 8518]\n",
            "Epoch 16\n",
            "-------------------------------------\n",
            "loss: 0.007787,Accuracy:inf  [    0/ 8518]\n",
            "Epoch 17\n",
            "-------------------------------------\n",
            "loss: 0.007217,Accuracy:inf  [    0/ 8518]\n",
            "Epoch 18\n",
            "-------------------------------------\n",
            "loss: 0.006179,Accuracy:inf  [    0/ 8518]\n",
            "Epoch 19\n",
            "-------------------------------------\n",
            "loss: 0.006537,Accuracy:inf  [    0/ 8518]\n",
            "Epoch 20\n",
            "-------------------------------------\n",
            "loss: 0.006373,Accuracy:inf  [    0/ 8518]\n",
            "Epoch 21\n",
            "-------------------------------------\n",
            "loss: 0.007017,Accuracy:inf  [    0/ 8518]\n",
            "Epoch 22\n",
            "-------------------------------------\n",
            "loss: 0.006672,Accuracy:inf  [    0/ 8518]\n",
            "Epoch 23\n",
            "-------------------------------------\n",
            "loss: 0.007003,Accuracy:inf  [    0/ 8518]\n",
            "Epoch 24\n",
            "-------------------------------------\n",
            "loss: 0.006193,Accuracy:inf  [    0/ 8518]\n",
            "Epoch 25\n",
            "-------------------------------------\n",
            "loss: 0.006817,Accuracy:inf  [    0/ 8518]\n",
            "Epoch 26\n",
            "-------------------------------------\n",
            "loss: 0.007212,Accuracy:inf  [    0/ 8518]\n",
            "Epoch 27\n",
            "-------------------------------------\n",
            "loss: 0.007139,Accuracy:inf  [    0/ 8518]\n",
            "Epoch 28\n",
            "-------------------------------------\n",
            "loss: 0.006619,Accuracy:inf  [    0/ 8518]\n",
            "Epoch 29\n",
            "-------------------------------------\n",
            "loss: 0.006915,Accuracy:inf  [    0/ 8518]\n",
            "Epoch 30\n",
            "-------------------------------------\n",
            "loss: 0.006498,Accuracy:inf  [    0/ 8518]\n",
            "Epoch 31\n",
            "-------------------------------------\n",
            "loss: 0.006711,Accuracy:inf  [    0/ 8518]\n",
            "Epoch 32\n",
            "-------------------------------------\n",
            "loss: 0.006780,Accuracy:inf  [    0/ 8518]\n",
            "Epoch 33\n",
            "-------------------------------------\n",
            "loss: 0.006151,Accuracy:inf  [    0/ 8518]\n",
            "Epoch 34\n",
            "-------------------------------------\n",
            "loss: 0.007120,Accuracy:inf  [    0/ 8518]\n",
            "Epoch 35\n",
            "-------------------------------------\n",
            "loss: 0.006883,Accuracy:inf  [    0/ 8518]\n",
            "Epoch 36\n",
            "-------------------------------------\n",
            "loss: 0.006957,Accuracy:inf  [    0/ 8518]\n",
            "Epoch 37\n",
            "-------------------------------------\n",
            "loss: 0.006610,Accuracy:inf  [    0/ 8518]\n",
            "Epoch 38\n",
            "-------------------------------------\n",
            "loss: 0.006531,Accuracy:inf  [    0/ 8518]\n",
            "Epoch 39\n",
            "-------------------------------------\n",
            "loss: 0.007129,Accuracy:inf  [    0/ 8518]\n",
            "Epoch 40\n",
            "-------------------------------------\n",
            "loss: 0.006267,Accuracy:inf  [    0/ 8518]\n",
            "Epoch 41\n",
            "-------------------------------------\n",
            "loss: 0.006013,Accuracy:inf  [    0/ 8518]\n",
            "Epoch 42\n",
            "-------------------------------------\n",
            "loss: 0.006345,Accuracy:inf  [    0/ 8518]\n",
            "Epoch 43\n",
            "-------------------------------------\n",
            "loss: 0.005888,Accuracy:inf  [    0/ 8518]\n",
            "Epoch 44\n",
            "-------------------------------------\n",
            "loss: 0.006481,Accuracy:inf  [    0/ 8518]\n",
            "Epoch 45\n",
            "-------------------------------------\n",
            "loss: 0.006591,Accuracy:inf  [    0/ 8518]\n",
            "Epoch 46\n",
            "-------------------------------------\n",
            "loss: 0.006230,Accuracy:inf  [    0/ 8518]\n",
            "Epoch 47\n",
            "-------------------------------------\n",
            "loss: 0.005574,Accuracy:inf  [    0/ 8518]\n",
            "Epoch 48\n",
            "-------------------------------------\n",
            "loss: 0.006656,Accuracy:inf  [    0/ 8518]\n",
            "Epoch 49\n",
            "-------------------------------------\n",
            "loss: 0.006181,Accuracy:inf  [    0/ 8518]\n",
            "Epoch 50\n",
            "-------------------------------------\n",
            "loss: 0.007006,Accuracy:inf  [    0/ 8518]\n",
            "Epoch 51\n",
            "-------------------------------------\n",
            "loss: 0.006723,Accuracy:inf  [    0/ 8518]\n",
            "Epoch 52\n",
            "-------------------------------------\n",
            "loss: 0.006330,Accuracy:inf  [    0/ 8518]\n",
            "Epoch 53\n",
            "-------------------------------------\n",
            "loss: 0.006888,Accuracy:inf  [    0/ 8518]\n",
            "Epoch 54\n",
            "-------------------------------------\n",
            "loss: 0.006382,Accuracy:inf  [    0/ 8518]\n",
            "Epoch 55\n",
            "-------------------------------------\n",
            "loss: 0.006500,Accuracy:inf  [    0/ 8518]\n",
            "Epoch 56\n",
            "-------------------------------------\n",
            "loss: 0.006176,Accuracy:inf  [    0/ 8518]\n",
            "Epoch 57\n",
            "-------------------------------------\n",
            "loss: 0.005824,Accuracy:inf  [    0/ 8518]\n",
            "Epoch 58\n",
            "-------------------------------------\n",
            "loss: 0.006486,Accuracy:inf  [    0/ 8518]\n",
            "Epoch 59\n",
            "-------------------------------------\n",
            "loss: 0.006818,Accuracy:inf  [    0/ 8518]\n",
            "Epoch 60\n",
            "-------------------------------------\n",
            "loss: 0.005913,Accuracy:inf  [    0/ 8518]\n",
            "Epoch 61\n",
            "-------------------------------------\n",
            "loss: 0.006700,Accuracy:inf  [    0/ 8518]\n",
            "Epoch 62\n",
            "-------------------------------------\n",
            "loss: 0.006395,Accuracy:inf  [    0/ 8518]\n",
            "Epoch 63\n",
            "-------------------------------------\n",
            "loss: 0.005650,Accuracy:inf  [    0/ 8518]\n",
            "Epoch 64\n",
            "-------------------------------------\n",
            "loss: 0.006634,Accuracy:inf  [    0/ 8518]\n",
            "Epoch 65\n",
            "-------------------------------------\n",
            "loss: 0.005186,Accuracy:inf  [    0/ 8518]\n",
            "Epoch 66\n",
            "-------------------------------------\n",
            "loss: 0.005999,Accuracy:inf  [    0/ 8518]\n",
            "Epoch 67\n",
            "-------------------------------------\n",
            "loss: 0.006226,Accuracy:inf  [    0/ 8518]\n",
            "Epoch 68\n",
            "-------------------------------------\n",
            "loss: 0.006339,Accuracy:inf  [    0/ 8518]\n",
            "Epoch 69\n",
            "-------------------------------------\n",
            "loss: 0.006039,Accuracy:inf  [    0/ 8518]\n",
            "Epoch 70\n",
            "-------------------------------------\n",
            "loss: 0.006557,Accuracy:inf  [    0/ 8518]\n",
            "Epoch 71\n",
            "-------------------------------------\n",
            "loss: 0.005749,Accuracy:inf  [    0/ 8518]\n",
            "Epoch 72\n",
            "-------------------------------------\n",
            "loss: 0.005608,Accuracy:inf  [    0/ 8518]\n",
            "Epoch 73\n",
            "-------------------------------------\n",
            "loss: 0.005675,Accuracy:inf  [    0/ 8518]\n",
            "Epoch 74\n",
            "-------------------------------------\n",
            "loss: 0.005660,Accuracy:inf  [    0/ 8518]\n",
            "Epoch 75\n",
            "-------------------------------------\n",
            "loss: 0.005652,Accuracy:inf  [    0/ 8518]\n",
            "Epoch 76\n",
            "-------------------------------------\n",
            "loss: 0.006164,Accuracy:inf  [    0/ 8518]\n",
            "Epoch 77\n",
            "-------------------------------------\n",
            "loss: 0.005986,Accuracy:inf  [    0/ 8518]\n",
            "Epoch 78\n",
            "-------------------------------------\n",
            "loss: 0.005875,Accuracy:inf  [    0/ 8518]\n",
            "Epoch 79\n",
            "-------------------------------------\n",
            "loss: 0.005614,Accuracy:inf  [    0/ 8518]\n",
            "Epoch 80\n",
            "-------------------------------------\n",
            "loss: 0.005736,Accuracy:inf  [    0/ 8518]\n",
            "Epoch 81\n",
            "-------------------------------------\n",
            "loss: 0.006088,Accuracy:inf  [    0/ 8518]\n",
            "Epoch 82\n",
            "-------------------------------------\n",
            "loss: 0.005685,Accuracy:inf  [    0/ 8518]\n",
            "Epoch 83\n",
            "-------------------------------------\n",
            "loss: 0.005911,Accuracy:inf  [    0/ 8518]\n",
            "Epoch 84\n",
            "-------------------------------------\n",
            "loss: 0.005460,Accuracy:inf  [    0/ 8518]\n",
            "Epoch 85\n",
            "-------------------------------------\n",
            "loss: 0.006000,Accuracy:inf  [    0/ 8518]\n",
            "Epoch 86\n",
            "-------------------------------------\n",
            "loss: 0.005765,Accuracy:inf  [    0/ 8518]\n",
            "Epoch 87\n",
            "-------------------------------------\n",
            "loss: 0.005700,Accuracy:inf  [    0/ 8518]\n",
            "Epoch 88\n",
            "-------------------------------------\n",
            "loss: 0.005096,Accuracy:inf  [    0/ 8518]\n",
            "Epoch 89\n",
            "-------------------------------------\n",
            "loss: 0.005340,Accuracy:inf  [    0/ 8518]\n",
            "Epoch 90\n",
            "-------------------------------------\n",
            "loss: 0.005383,Accuracy:inf  [    0/ 8518]\n",
            "Epoch 91\n",
            "-------------------------------------\n",
            "loss: 0.006001,Accuracy:inf  [    0/ 8518]\n",
            "Epoch 92\n",
            "-------------------------------------\n",
            "loss: 0.005597,Accuracy:inf  [    0/ 8518]\n",
            "Epoch 93\n",
            "-------------------------------------\n",
            "loss: 0.005107,Accuracy:inf  [    0/ 8518]\n",
            "Epoch 94\n",
            "-------------------------------------\n",
            "loss: 0.005580,Accuracy:inf  [    0/ 8518]\n",
            "Epoch 95\n",
            "-------------------------------------\n",
            "loss: 0.005244,Accuracy:inf  [    0/ 8518]\n",
            "Epoch 96\n",
            "-------------------------------------\n",
            "loss: 0.005044,Accuracy:inf  [    0/ 8518]\n",
            "Epoch 97\n",
            "-------------------------------------\n",
            "loss: 0.005896,Accuracy:inf  [    0/ 8518]\n",
            "Epoch 98\n",
            "-------------------------------------\n",
            "loss: 0.005335,Accuracy:inf  [    0/ 8518]\n",
            "Epoch 99\n",
            "-------------------------------------\n",
            "loss: 0.005498,Accuracy:inf  [    0/ 8518]\n",
            "Epoch 100\n",
            "-------------------------------------\n",
            "loss: 0.004982,Accuracy:inf  [    0/ 8518]\n"
          ]
        }
      ]
    },
    {
      "cell_type": "code",
      "metadata": {
        "colab": {
          "base_uri": "https://localhost:8080/"
        },
        "id": "4UjNjcuQexYe",
        "outputId": "44c97efc-3c79-45e8-9408-f371191a965e"
      },
      "source": [
        "!nvidia-smi"
      ],
      "execution_count": 33,
      "outputs": [
        {
          "output_type": "stream",
          "name": "stdout",
          "text": [
            "Wed Oct 20 17:06:25 2021       \n",
            "+-----------------------------------------------------------------------------+\n",
            "| NVIDIA-SMI 470.74       Driver Version: 460.32.03    CUDA Version: 11.2     |\n",
            "|-------------------------------+----------------------+----------------------+\n",
            "| GPU  Name        Persistence-M| Bus-Id        Disp.A | Volatile Uncorr. ECC |\n",
            "| Fan  Temp  Perf  Pwr:Usage/Cap|         Memory-Usage | GPU-Util  Compute M. |\n",
            "|                               |                      |               MIG M. |\n",
            "|===============================+======================+======================|\n",
            "|   0  Tesla P100-PCIE...  Off  | 00000000:00:04.0 Off |                    0 |\n",
            "| N/A   49C    P0    35W / 250W |  14263MiB / 16280MiB |      0%      Default |\n",
            "|                               |                      |                  N/A |\n",
            "+-------------------------------+----------------------+----------------------+\n",
            "                                                                               \n",
            "+-----------------------------------------------------------------------------+\n",
            "| Processes:                                                                  |\n",
            "|  GPU   GI   CI        PID   Type   Process name                  GPU Memory |\n",
            "|        ID   ID                                                   Usage      |\n",
            "|=============================================================================|\n",
            "|  No running processes found                                                 |\n",
            "+-----------------------------------------------------------------------------+\n"
          ]
        }
      ]
    },
    {
      "cell_type": "code",
      "metadata": {
        "colab": {
          "base_uri": "https://localhost:8080/"
        },
        "id": "fMWTq996g3Ab",
        "outputId": "cba9d310-ae1d-4c19-8921-112719f3a309"
      },
      "source": [
        "len(training_data)"
      ],
      "execution_count": 24,
      "outputs": [
        {
          "output_type": "execute_result",
          "data": {
            "text/plain": [
              "2"
            ]
          },
          "metadata": {},
          "execution_count": 24
        }
      ]
    },
    {
      "cell_type": "code",
      "metadata": {
        "id": "-PdioXFUnqvE"
      },
      "source": [
        ""
      ],
      "execution_count": null,
      "outputs": []
    }
  ]
}